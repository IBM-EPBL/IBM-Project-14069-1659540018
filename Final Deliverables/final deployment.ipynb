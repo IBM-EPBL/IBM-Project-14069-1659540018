{
 "cells": [
  {
   "cell_type": "code",
   "execution_count": 10,
   "metadata": {},
   "outputs": [
    {
     "ename": "ImportError",
     "evalue": "attempted relative import with no known parent package",
     "output_type": "error",
     "traceback": [
      "\u001b[1;31m---------------------------------------------------------------------------\u001b[0m",
      "\u001b[1;31mImportError\u001b[0m                               Traceback (most recent call last)",
      "\u001b[1;32mc:\\IBM-VIrtualEye\\IBM-Project-14069-1659540018\\Final Deliverables\\final deployment.ipynb Cell 1\u001b[0m in \u001b[0;36m<cell line: 4>\u001b[1;34m()\u001b[0m\n\u001b[0;32m      <a href='vscode-notebook-cell:/c%3A/IBM-VIrtualEye/IBM-Project-14069-1659540018/Final%20Deliverables/final%20deployment.ipynb#W0sZmlsZQ%3D%3D?line=1'>2</a>\u001b[0m \u001b[39mimport\u001b[39;00m \u001b[39mos\u001b[39;00m\n\u001b[0;32m      <a href='vscode-notebook-cell:/c%3A/IBM-VIrtualEye/IBM-Project-14069-1659540018/Final%20Deliverables/final%20deployment.ipynb#W0sZmlsZQ%3D%3D?line=2'>3</a>\u001b[0m \u001b[39mimport\u001b[39;00m \u001b[39mnumpy\u001b[39;00m \u001b[39mas\u001b[39;00m \u001b[39mnp\u001b[39;00m\n\u001b[1;32m----> <a href='vscode-notebook-cell:/c%3A/IBM-VIrtualEye/IBM-Project-14069-1659540018/Final%20Deliverables/final%20deployment.ipynb#W0sZmlsZQ%3D%3D?line=3'>4</a>\u001b[0m \u001b[39mfrom\u001b[39;00m \u001b[39m.\u001b[39;00m\u001b[39mutils\u001b[39;00m \u001b[39mimport\u001b[39;00m download_file\n",
      "\u001b[1;31mImportError\u001b[0m: attempted relative import with no known parent package"
     ]
    }
   ],
   "source": [
    "import cv2\n",
    "import os\n",
    "import numpy as np\n",
    "#from .utils import download_file"
   ]
  },
  {
   "cell_type": "code",
   "execution_count": 22,
   "metadata": {},
   "outputs": [
    {
     "name": "stdout",
     "output_type": "stream",
     "text": [
      "Collecting pytorch\n",
      "  Downloading pytorch-1.0.2.tar.gz (689 bytes)\n",
      "  Preparing metadata (setup.py): started\n",
      "  Preparing metadata (setup.py): finished with status 'done'\n",
      "Building wheels for collected packages: pytorch\n",
      "  Building wheel for pytorch (setup.py): started\n",
      "  Building wheel for pytorch (setup.py): finished with status 'error'\n",
      "  Running setup.py clean for pytorch\n",
      "Failed to build pytorch\n",
      "Installing collected packages: pytorch\n",
      "  Running setup.py install for pytorch: started\n",
      "  Running setup.py install for pytorch: finished with status 'error'\n",
      "Note: you may need to restart the kernel to use updated packages.\n"
     ]
    },
    {
     "name": "stderr",
     "output_type": "stream",
     "text": [
      "WARNING: Ignoring invalid distribution -illow (c:\\users\\priya\\appdata\\local\\programs\\python\\python39\\lib\\site-packages)\n",
      "WARNING: Ignoring invalid distribution -illow (c:\\users\\priya\\appdata\\local\\programs\\python\\python39\\lib\\site-packages)\n",
      "  error: subprocess-exited-with-error\n",
      "  \n",
      "  × python setup.py bdist_wheel did not run successfully.\n",
      "  │ exit code: 1\n",
      "  ╰─> [6 lines of output]\n",
      "      Traceback (most recent call last):\n",
      "        File \"<string>\", line 2, in <module>\n",
      "        File \"<pip-setuptools-caller>\", line 34, in <module>\n",
      "        File \"C:\\Users\\priya\\AppData\\Local\\Temp\\pip-install-u15hhcey\\pytorch_9c168164fac84ae1912a53c027b76255\\setup.py\", line 15, in <module>\n",
      "          raise Exception(message)\n",
      "      Exception: You tried to install \"pytorch\". The package named for PyTorch is \"torch\"\n",
      "      [end of output]\n",
      "  \n",
      "  note: This error originates from a subprocess, and is likely not a problem with pip.\n",
      "  ERROR: Failed building wheel for pytorch\n",
      "WARNING: Ignoring invalid distribution -illow (c:\\users\\priya\\appdata\\local\\programs\\python\\python39\\lib\\site-packages)\n",
      "  error: subprocess-exited-with-error\n",
      "  \n",
      "  × Running setup.py install for pytorch did not run successfully.\n",
      "  │ exit code: 1\n",
      "  ╰─> [6 lines of output]\n",
      "      Traceback (most recent call last):\n",
      "        File \"<string>\", line 2, in <module>\n",
      "        File \"<pip-setuptools-caller>\", line 34, in <module>\n",
      "        File \"C:\\Users\\priya\\AppData\\Local\\Temp\\pip-install-u15hhcey\\pytorch_9c168164fac84ae1912a53c027b76255\\setup.py\", line 11, in <module>\n",
      "          raise Exception(message)\n",
      "      Exception: You tried to install \"pytorch\". The package named for PyTorch is \"torch\"\n",
      "      [end of output]\n",
      "  \n",
      "  note: This error originates from a subprocess, and is likely not a problem with pip.\n",
      "error: legacy-install-failure\n",
      "\n",
      "× Encountered error while trying to install package.\n",
      "╰─> pytorch\n",
      "\n",
      "note: This is an issue with the package mentioned above, not pip.\n",
      "hint: See above for output from the failure.\n",
      "WARNING: Ignoring invalid distribution -illow (c:\\users\\priya\\appdata\\local\\programs\\python\\python39\\lib\\site-packages)\n",
      "WARNING: Ignoring invalid distribution -illow (c:\\users\\priya\\appdata\\local\\programs\\python\\python39\\lib\\site-packages)\n",
      "WARNING: Ignoring invalid distribution -illow (c:\\users\\priya\\appdata\\local\\programs\\python\\python39\\lib\\site-packages)\n"
     ]
    }
   ],
   "source": [
    "%pip install pytorch "
   ]
  },
  {
   "cell_type": "code",
   "execution_count": 32,
   "metadata": {},
   "outputs": [
    {
     "name": "stdout",
     "output_type": "stream",
     "text": [
      "Collecting cvlib\n",
      "  Downloading cvlib-0.2.7.tar.gz (13.1 MB)\n",
      "     -------------------------------------- 13.1/13.1 MB 797.0 kB/s eta 0:00:00\n",
      "  Preparing metadata (setup.py): started\n",
      "  Preparing metadata (setup.py): finished with status 'done'\n",
      "Requirement already satisfied: numpy in c:\\users\\priya\\appdata\\local\\programs\\python\\python39\\lib\\site-packages (from cvlib) (1.21.1)\n",
      "Collecting progressbar\n",
      "  Downloading progressbar-2.5.tar.gz (10 kB)\n",
      "  Preparing metadata (setup.py): started\n",
      "  Preparing metadata (setup.py): finished with status 'done'\n",
      "Requirement already satisfied: requests in c:\\users\\priya\\appdata\\local\\programs\\python\\python39\\lib\\site-packages (from cvlib) (2.26.0)\n",
      "Requirement already satisfied: pillow in c:\\users\\priya\\appdata\\local\\programs\\python\\python39\\lib\\site-packages (from cvlib) (9.3.0)\n",
      "Requirement already satisfied: imageio in c:\\users\\priya\\appdata\\local\\programs\\python\\python39\\lib\\site-packages (from cvlib) (2.22.4)\n",
      "Collecting imutils\n",
      "  Using cached imutils-0.5.4-py3-none-any.whl\n",
      "Requirement already satisfied: urllib3<1.27,>=1.21.1 in c:\\users\\priya\\appdata\\local\\programs\\python\\python39\\lib\\site-packages (from requests->cvlib) (1.26.6)\n",
      "Requirement already satisfied: charset-normalizer~=2.0.0 in c:\\users\\priya\\appdata\\local\\programs\\python\\python39\\lib\\site-packages (from requests->cvlib) (2.0.1)\n",
      "Requirement already satisfied: certifi>=2017.4.17 in c:\\users\\priya\\appdata\\local\\programs\\python\\python39\\lib\\site-packages (from requests->cvlib) (2021.5.30)\n",
      "Requirement already satisfied: idna<4,>=2.5 in c:\\users\\priya\\appdata\\local\\programs\\python\\python39\\lib\\site-packages (from requests->cvlib) (3.2)\n",
      "Building wheels for collected packages: cvlib, progressbar\n",
      "  Building wheel for cvlib (setup.py): started\n",
      "  Building wheel for cvlib (setup.py): finished with status 'done'\n",
      "  Created wheel for cvlib: filename=cvlib-0.2.7-py3-none-any.whl size=10046394 sha256=754d4c2721c424d85ec1fccbae3b0da78fb5263d60af2618fff0759449689fff\n",
      "  Stored in directory: c:\\users\\priya\\appdata\\local\\pip\\cache\\wheels\\32\\e7\\2a\\5f64d211cfba4d85d87e8c184002e54a134d424b3229ee9e1e\n",
      "  Building wheel for progressbar (setup.py): started\n",
      "  Building wheel for progressbar (setup.py): finished with status 'done'\n",
      "  Created wheel for progressbar: filename=progressbar-2.5-py3-none-any.whl size=12099 sha256=e2427e416dbb52391ecfa5131e87e22cf7920e0015a8cb9c613a06511aaabcd0\n",
      "  Stored in directory: c:\\users\\priya\\appdata\\local\\pip\\cache\\wheels\\bf\\e1\\19\\f3a955a8782b8bf8205c82cf8b0623c683acc0c7b71b41129c\n",
      "Successfully built cvlib progressbar\n",
      "Installing collected packages: progressbar, imutils, cvlib\n",
      "Successfully installed cvlib-0.2.7 imutils-0.5.4 progressbar-2.5\n",
      "Note: you may need to restart the kernel to use updated packages.\n"
     ]
    },
    {
     "name": "stderr",
     "output_type": "stream",
     "text": [
      "WARNING: Ignoring invalid distribution -illow (c:\\users\\priya\\appdata\\local\\programs\\python\\python39\\lib\\site-packages)\n",
      "WARNING: Ignoring invalid distribution -illow (c:\\users\\priya\\appdata\\local\\programs\\python\\python39\\lib\\site-packages)\n",
      "WARNING: Ignoring invalid distribution -illow (c:\\users\\priya\\appdata\\local\\programs\\python\\python39\\lib\\site-packages)\n",
      "WARNING: Ignoring invalid distribution -illow (c:\\users\\priya\\appdata\\local\\programs\\python\\python39\\lib\\site-packages)\n",
      "WARNING: Ignoring invalid distribution -illow (c:\\users\\priya\\appdata\\local\\programs\\python\\python39\\lib\\site-packages)\n",
      "WARNING: Ignoring invalid distribution -illow (c:\\users\\priya\\appdata\\local\\programs\\python\\python39\\lib\\site-packages)\n",
      "WARNING: Ignoring invalid distribution -illow (c:\\users\\priya\\appdata\\local\\programs\\python\\python39\\lib\\site-packages)\n",
      "WARNING: Ignoring invalid distribution -illow (c:\\users\\priya\\appdata\\local\\programs\\python\\python39\\lib\\site-packages)\n",
      "WARNING: Ignoring invalid distribution -illow (c:\\users\\priya\\appdata\\local\\programs\\python\\python39\\lib\\site-packages)\n"
     ]
    }
   ],
   "source": [
    "%pip install cvlib"
   ]
  },
  {
   "cell_type": "code",
   "execution_count": 41,
   "metadata": {},
   "outputs": [
    {
     "name": "stdout",
     "output_type": "stream",
     "text": [
      "Collecting utils\n",
      "  Downloading utils-1.0.1-py2.py3-none-any.whl (21 kB)\n",
      "Installing collected packages: utils\n",
      "Successfully installed utils-1.0.1\n",
      "Note: you may need to restart the kernel to use updated packages.\n"
     ]
    },
    {
     "name": "stderr",
     "output_type": "stream",
     "text": [
      "WARNING: Ignoring invalid distribution -illow (c:\\users\\priya\\appdata\\local\\programs\\python\\python39\\lib\\site-packages)\n",
      "WARNING: Ignoring invalid distribution -illow (c:\\users\\priya\\appdata\\local\\programs\\python\\python39\\lib\\site-packages)\n",
      "WARNING: Ignoring invalid distribution -illow (c:\\users\\priya\\appdata\\local\\programs\\python\\python39\\lib\\site-packages)\n",
      "WARNING: Ignoring invalid distribution -illow (c:\\users\\priya\\appdata\\local\\programs\\python\\python39\\lib\\site-packages)\n",
      "WARNING: Ignoring invalid distribution -illow (c:\\users\\priya\\appdata\\local\\programs\\python\\python39\\lib\\site-packages)\n",
      "WARNING: Ignoring invalid distribution -illow (c:\\users\\priya\\appdata\\local\\programs\\python\\python39\\lib\\site-packages)\n",
      "WARNING: Ignoring invalid distribution -illow (c:\\users\\priya\\appdata\\local\\programs\\python\\python39\\lib\\site-packages)\n"
     ]
    }
   ],
   "source": [
    "%pip install utils"
   ]
  },
  {
   "cell_type": "code",
   "execution_count": 44,
   "metadata": {},
   "outputs": [],
   "source": [
    "%pip install torchvision"
   ]
  },
  {
   "cell_type": "code",
   "execution_count": 6,
   "metadata": {},
   "outputs": [
    {
     "name": "stdout",
     "output_type": "stream",
     "text": [
      "Collecting download_file\n",
      "  Downloading download_file-0.2-py3-none-any.whl (2.2 kB)\n",
      "Installing collected packages: download_file\n",
      "Successfully installed download_file-0.2\n",
      "Note: you may need to restart the kernel to use updated packages.\n"
     ]
    },
    {
     "name": "stderr",
     "output_type": "stream",
     "text": [
      "WARNING: Ignoring invalid distribution -illow (c:\\users\\priya\\appdata\\local\\programs\\python\\python39\\lib\\site-packages)\n",
      "WARNING: Ignoring invalid distribution -illow (c:\\users\\priya\\appdata\\local\\programs\\python\\python39\\lib\\site-packages)\n",
      "WARNING: Ignoring invalid distribution -illow (c:\\users\\priya\\appdata\\local\\programs\\python\\python39\\lib\\site-packages)\n",
      "WARNING: Ignoring invalid distribution -illow (c:\\users\\priya\\appdata\\local\\programs\\python\\python39\\lib\\site-packages)\n",
      "WARNING: Ignoring invalid distribution -illow (c:\\users\\priya\\appdata\\local\\programs\\python\\python39\\lib\\site-packages)\n",
      "WARNING: Ignoring invalid distribution -illow (c:\\users\\priya\\appdata\\local\\programs\\python\\python39\\lib\\site-packages)\n",
      "WARNING: Ignoring invalid distribution -illow (c:\\users\\priya\\appdata\\local\\programs\\python\\python39\\lib\\site-packages)\n"
     ]
    }
   ],
   "source": [
    "%pip install download_file"
   ]
  },
  {
   "cell_type": "code",
   "execution_count": 9,
   "metadata": {},
   "outputs": [
    {
     "ename": "ImportError",
     "evalue": "attempted relative import with no known parent package",
     "output_type": "error",
     "traceback": [
      "\u001b[1;31m---------------------------------------------------------------------------\u001b[0m",
      "\u001b[1;31mImportError\u001b[0m                               Traceback (most recent call last)",
      "\u001b[1;32mc:\\IBM-VIrtualEye\\IBM-Project-14069-1659540018\\Final Deliverables\\final deployment.ipynb Cell 7\u001b[0m in \u001b[0;36m<cell line: 3>\u001b[1;34m()\u001b[0m\n\u001b[0;32m      <a href='vscode-notebook-cell:/c%3A/IBM-VIrtualEye/IBM-Project-14069-1659540018/Final%20Deliverables/final%20deployment.ipynb#W5sZmlsZQ%3D%3D?line=0'>1</a>\u001b[0m \u001b[39mimport\u001b[39;00m \u001b[39mtorch\u001b[39;00m\n\u001b[0;32m      <a href='vscode-notebook-cell:/c%3A/IBM-VIrtualEye/IBM-Project-14069-1659540018/Final%20Deliverables/final%20deployment.ipynb#W5sZmlsZQ%3D%3D?line=1'>2</a>\u001b[0m \u001b[39mfrom\u001b[39;00m \u001b[39mtorch\u001b[39;00m \u001b[39mimport\u001b[39;00m utils \n\u001b[1;32m----> <a href='vscode-notebook-cell:/c%3A/IBM-VIrtualEye/IBM-Project-14069-1659540018/Final%20Deliverables/final%20deployment.ipynb#W5sZmlsZQ%3D%3D?line=2'>3</a>\u001b[0m \u001b[39mfrom\u001b[39;00m \u001b[39m.\u001b[39;00m\u001b[39mutils\u001b[39;00m \u001b[39mimport\u001b[39;00m download_file\n\u001b[0;32m      <a href='vscode-notebook-cell:/c%3A/IBM-VIrtualEye/IBM-Project-14069-1659540018/Final%20Deliverables/final%20deployment.ipynb#W5sZmlsZQ%3D%3D?line=3'>4</a>\u001b[0m \u001b[39mimport\u001b[39;00m \u001b[39mcvlib\u001b[39;00m \u001b[39mas\u001b[39;00m \u001b[39mcv\u001b[39;00m\n\u001b[0;32m      <a href='vscode-notebook-cell:/c%3A/IBM-VIrtualEye/IBM-Project-14069-1659540018/Final%20Deliverables/final%20deployment.ipynb#W5sZmlsZQ%3D%3D?line=4'>5</a>\u001b[0m \u001b[39mfrom\u001b[39;00m \u001b[39mcvlib\u001b[39;00m\u001b[39m.\u001b[39;00m\u001b[39mobject_detection\u001b[39;00m \u001b[39mimport\u001b[39;00m draw_bbox\n",
      "\u001b[1;31mImportError\u001b[0m: attempted relative import with no known parent package"
     ]
    }
   ],
   "source": [
    "import torch\n",
    "from torch import utils \n",
    "#from .utils import download_file\n",
    "import cvlib as cv\n",
    "from cvlib.object_detection import draw_bbox"
   ]
  },
  {
   "cell_type": "code",
   "execution_count": 5,
   "metadata": {},
   "outputs": [
    {
     "name": "stdout",
     "output_type": "stream",
     "text": [
      "Collecting playsound\n",
      "  Using cached playsound-1.3.0-py3-none-any.whl\n",
      "Installing collected packages: playsound\n",
      "Successfully installed playsound-1.3.0\n",
      "Note: you may need to restart the kernel to use updated packages.\n"
     ]
    },
    {
     "name": "stderr",
     "output_type": "stream",
     "text": [
      "WARNING: Ignoring invalid distribution -illow (c:\\users\\priya\\appdata\\local\\programs\\python\\python39\\lib\\site-packages)\n",
      "WARNING: Ignoring invalid distribution -illow (c:\\users\\priya\\appdata\\local\\programs\\python\\python39\\lib\\site-packages)\n",
      "WARNING: Ignoring invalid distribution -illow (c:\\users\\priya\\appdata\\local\\programs\\python\\python39\\lib\\site-packages)\n",
      "WARNING: Ignoring invalid distribution -illow (c:\\users\\priya\\appdata\\local\\programs\\python\\python39\\lib\\site-packages)\n",
      "WARNING: Ignoring invalid distribution -illow (c:\\users\\priya\\appdata\\local\\programs\\python\\python39\\lib\\site-packages)\n",
      "WARNING: Ignoring invalid distribution -illow (c:\\users\\priya\\appdata\\local\\programs\\python\\python39\\lib\\site-packages)\n",
      "WARNING: Ignoring invalid distribution -illow (c:\\users\\priya\\appdata\\local\\programs\\python\\python39\\lib\\site-packages)\n"
     ]
    }
   ],
   "source": [
    "%pip install playsound"
   ]
  },
  {
   "cell_type": "code",
   "execution_count": 18,
   "metadata": {},
   "outputs": [],
   "source": [
    "import cv2\n",
    "import time\n",
    "import numpy as np \n",
    "from playsound import playsound\n",
    "import requests\n",
    "from flask import Flask, request, render_template, redirect,  url_for\n"
   ]
  },
  {
   "cell_type": "code",
   "execution_count": 9,
   "metadata": {},
   "outputs": [
    {
     "name": "stdout",
     "output_type": "stream",
     "text": [
      "Collecting cloudantNote: you may need to restart the kernel to use updated packages.\n",
      "\n",
      "  Downloading cloudant-2.15.0-py3-none-any.whl (80 kB)\n",
      "     -------------------------------------- 80.5/80.5 kB 166.9 kB/s eta 0:00:00\n",
      "Requirement already satisfied: requests<3.0.0,>=2.7.0 in c:\\users\\priya\\appdata\\local\\programs\\python\\python39\\lib\\site-packages (from cloudant) (2.26.0)\n",
      "Requirement already satisfied: idna<4,>=2.5 in c:\\users\\priya\\appdata\\local\\programs\\python\\python39\\lib\\site-packages (from requests<3.0.0,>=2.7.0->cloudant) (3.2)\n",
      "Requirement already satisfied: charset-normalizer~=2.0.0 in c:\\users\\priya\\appdata\\local\\programs\\python\\python39\\lib\\site-packages (from requests<3.0.0,>=2.7.0->cloudant) (2.0.1)\n",
      "Requirement already satisfied: certifi>=2017.4.17 in c:\\users\\priya\\appdata\\local\\programs\\python\\python39\\lib\\site-packages (from requests<3.0.0,>=2.7.0->cloudant) (2021.5.30)\n",
      "Requirement already satisfied: urllib3<1.27,>=1.21.1 in c:\\users\\priya\\appdata\\local\\programs\\python\\python39\\lib\\site-packages (from requests<3.0.0,>=2.7.0->cloudant) (1.26.6)\n",
      "Installing collected packages: cloudant\n",
      "Successfully installed cloudant-2.15.0\n"
     ]
    },
    {
     "name": "stderr",
     "output_type": "stream",
     "text": [
      "WARNING: Ignoring invalid distribution -illow (c:\\users\\priya\\appdata\\local\\programs\\python\\python39\\lib\\site-packages)\n",
      "WARNING: Ignoring invalid distribution -illow (c:\\users\\priya\\appdata\\local\\programs\\python\\python39\\lib\\site-packages)\n",
      "WARNING: Ignoring invalid distribution -illow (c:\\users\\priya\\appdata\\local\\programs\\python\\python39\\lib\\site-packages)\n",
      "WARNING: Ignoring invalid distribution -illow (c:\\users\\priya\\appdata\\local\\programs\\python\\python39\\lib\\site-packages)\n",
      "WARNING: Ignoring invalid distribution -illow (c:\\users\\priya\\appdata\\local\\programs\\python\\python39\\lib\\site-packages)\n",
      "WARNING: Ignoring invalid distribution -illow (c:\\users\\priya\\appdata\\local\\programs\\python\\python39\\lib\\site-packages)\n",
      "WARNING: Ignoring invalid distribution -illow (c:\\users\\priya\\appdata\\local\\programs\\python\\python39\\lib\\site-packages)\n"
     ]
    }
   ],
   "source": [
    "%pip install cloudant"
   ]
  },
  {
   "cell_type": "code",
   "execution_count": 44,
   "metadata": {},
   "outputs": [],
   "source": [
    "import cloudant\n",
    "from cloudant.client import Cloudant\n",
    "client=Cloudant.iam('367f3d0a-0aba-4a1f-a091-db5897e10f43-bluemix','ZwFr4EJ1R2-tG5vnMBA7fYxJXOJcwAut0HpV_wyxbPdl', connect=True)\n",
    "my_databse=client.create_database('my_database')\n"
   ]
  },
  {
   "cell_type": "code",
   "execution_count": 12,
   "metadata": {},
   "outputs": [],
   "source": [
    "from flask import Flask\n",
    "app = Flask(__name__)\n",
    "@app.route('/')\n",
    "def index():\n",
    "    return render_template('index.html')\n",
    "\n",
    "@app.route('/index.html')\n",
    "def home():\n",
    "    return render_template('index.html')\n",
    "\n",
    "@app.route('/register')\n",
    "def register():\n",
    "    return render_template('register.html')\n",
    "\n",
    "@app.route('/afterreg', methods=['POST'])\n",
    "def afterreg():\n",
    "    x=[x for x in request.form.values()]\n",
    "    print(x)\n",
    "    data={\n",
    "    '_id': x[1],\n",
    "    'name': x[0],\n",
    "    'psw':x[2]\n",
    "    }\n",
    "    print(data)\n",
    "\n",
    "    query={'_id': {'$eq': data['_id']}}\n",
    "\n",
    "    docs=my_database.get_query_result(query)\n",
    "    print(docs)\n",
    "\n",
    "    print(len(docs.all()))\n",
    "\n",
    "    if(len(docs.all())==0):\n",
    "        url=my_database.create_document(data)\n",
    "        return render_template('register.html', pred=\"Registration Successful, Please login using details\")\n",
    "    else:\n",
    "        return render_template('register.html', pred=\"Already a member, please login using details\")"
   ]
  },
  {
   "cell_type": "code",
   "execution_count": 14,
   "metadata": {},
   "outputs": [],
   "source": [
    "@app.route('/login')\n",
    "def login():\n",
    "    return render_template('login.html')\n",
    "\n",
    "@app.route('/afterlogin',methods=['POST'])\n",
    "def afterlogin():\n",
    "    user= request.form['_id']\n",
    "    passw=request.form['psw']\n",
    "    print(user.passw)\n",
    "\n",
    "    query={'_id': {'$eq': user}}\n",
    "\n",
    "    docs=my_database.get_query_result(query)\n",
    "    print(docs)\n",
    "\n",
    "    print(len(docs.all()))\n",
    "\n",
    "    if(len(docs.all())==0):\n",
    "        return render_template('login.html', pred=\"The username is not found.\")\n",
    "    else:\n",
    "        if((user==docs[0][0]['_id'] and passw==docs[0][0]['psw'])):\n",
    "            return redirect(url_for('prediction'))\n",
    "        else:\n",
    "            print('Invalid User')"
   ]
  },
  {
   "cell_type": "code",
   "execution_count": 15,
   "metadata": {},
   "outputs": [],
   "source": [
    "@app.route('/Logout')\n",
    "def logout():\n",
    "    return render_template('Logout.html')"
   ]
  },
  {
   "cell_type": "code",
   "execution_count": 42,
   "metadata": {},
   "outputs": [
    {
     "ename": "SyntaxError",
     "evalue": "invalid syntax (2276877065.py, line 65)",
     "output_type": "error",
     "traceback": [
      "\u001b[1;36m  Input \u001b[1;32mIn [42]\u001b[1;36m\u001b[0m\n\u001b[1;33m    __name__  ==  \"__main__\":\u001b[0m\n\u001b[1;37m                             ^\u001b[0m\n\u001b[1;31mSyntaxError\u001b[0m\u001b[1;31m:\u001b[0m invalid syntax\n"
     ]
    }
   ],
   "source": [
    "from ast import Break\n",
    "from flask import Flask\n",
    "app = Flask(__name__)\n",
    "@app.route('/result', methods=[\"GET\",\"POST\"])\n",
    "def res():\n",
    "    webcam=cv2.VideoCapture('drowning12.mp4')\n",
    "\n",
    "    if not webcam.isOpened():\n",
    "        print(\"Could not open webcam\")\n",
    "        exit()\n",
    "\n",
    "    t0= time.time()\n",
    "\n",
    "    centre0 = np.zeros(2)\n",
    "    isDrowning=False\n",
    "\n",
    "    while webcam.isOpened():\n",
    "        status, frame = webcam.read()\n",
    "\n",
    "    bbox, label, conf = cv.detect_common_objects(frame)\n",
    "\n",
    "    if(len(bbox)>0):\n",
    "        bbox0=bbox[0]\n",
    "        centre=[0,0]\n",
    "        centre=[(bbox0[0]+bbox0[2])/2,(bbox[1]+bbox[3])/2]\n",
    "\n",
    "        hmov=abs(centre[0]-centre0[0])\n",
    "        vmov=abs(centre[1]-centre0[1])\n",
    "\n",
    "    x=time.time()\n",
    "    t0=0\n",
    "    threshold = 10\n",
    "    if(hmov>threshold or vmov>threshold):\n",
    "        print(x-t0, 's')\n",
    "        t0 = time.time()\n",
    "        isDrowning = False\n",
    "\n",
    "    else:\n",
    "        print(x-t0, 's')\n",
    "        if((time.time()-t0) > 10):\n",
    "            isDrowning = True\n",
    "\n",
    "    \n",
    "    print('bbox:', bbox, 'centre:', centre, 'center0:', center0)\n",
    "    print('Is he Drowning : ', isDrowning)\n",
    "\n",
    "    centre0 = centre0\n",
    "\n",
    "    out = draw_bbox(frame, label, conf, isDrowning)\n",
    "\n",
    "    cv2.imshow(\"Real-time object dtection\", out)\n",
    "    if(isDrowning == True):\n",
    "        playsound('alarm.mp3')\n",
    "        webcam.release()\n",
    "\n",
    "        cv2.destroyAllWindows()\n",
    "        return render_template('prediction.html',predication=\"Emergency !!! The person is drowning\")\n",
    "    \n",
    "    if cv2.waitKey(1) & 0xFF == ord('q'): \n",
    "        Break\n",
    "        \n",
    "    webcam.release()\n",
    "    cv2.destroyAllWindows()\n",
    "\n",
    "__name__  ==  \"__main__\":\n",
    "app.run(debug == True)\n"
   ]
  },
  {
   "cell_type": "code",
   "execution_count": 39,
   "metadata": {},
   "outputs": [
    {
     "ename": "SyntaxError",
     "evalue": "invalid syntax (2474297117.py, line 1)",
     "output_type": "error",
     "traceback": [
      "\u001b[1;36m  Input \u001b[1;32mIn [39]\u001b[1;36m\u001b[0m\n\u001b[1;33m    __name__ == \"__main__\":\u001b[0m\n\u001b[1;37m                           ^\u001b[0m\n\u001b[1;31mSyntaxError\u001b[0m\u001b[1;31m:\u001b[0m invalid syntax\n"
     ]
    }
   ],
   "source": []
  }
 ],
 "metadata": {
  "kernelspec": {
   "display_name": "Python 3",
   "language": "python",
   "name": "python3"
  },
  "language_info": {
   "codemirror_mode": {
    "name": "ipython",
    "version": 3
   },
   "file_extension": ".py",
   "mimetype": "text/x-python",
   "name": "python",
   "nbconvert_exporter": "python",
   "pygments_lexer": "ipython3",
   "version": "3.9.6"
  },
  "orig_nbformat": 4,
  "vscode": {
   "interpreter": {
    "hash": "156b6e445808b07dc40aa5a8e66ccf91c9fbe531dfe1445bc12a4896e0fba728"
   }
  }
 },
 "nbformat": 4,
 "nbformat_minor": 2
}
